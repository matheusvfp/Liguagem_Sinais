{
 "cells": [
  {
   "cell_type": "markdown",
   "metadata": {},
   "source": [
    "1 Importando Bibliotecas"
   ]
  },
  {
   "cell_type": "code",
   "execution_count": 1,
   "metadata": {},
   "outputs": [],
   "source": [
    "from keras.utils import to_categorical, plot_model\n",
    "from keras.optimizers import SGD, Adam\n",
    "from keras import backend\n",
    "from sklearn.metrics import classification_report\n",
    "import matplotlib.pyplot as plt\n",
    "import numpy as np\n",
    "from keras.preprocessing.image import ImageDataGenerator\n",
    "from keras.callbacks import EarlyStopping\n",
    "from keras.models import Sequential\n",
    "from keras.layers import Convolution2D\n",
    "from keras.layers import MaxPooling2D\n",
    "from keras.layers import Flatten\n",
    "from keras.layers import Dense\n",
    "from sklearn.model_selection import train_test_split\n",
    "\n",
    "\n",
    "import datetime\n",
    "import h5py\n",
    "import time\n",
    "import os\n",
    "import tensorflow as tf\n",
    "\n"
   ]
  },
  {
   "cell_type": "code",
   "execution_count": 8,
   "metadata": {},
   "outputs": [
    {
     "ename": "SyntaxError",
     "evalue": "unterminated string literal (detected at line 1) (3773433649.py, line 1)",
     "output_type": "error",
     "traceback": [
      "\u001b[1;36m  Cell \u001b[1;32mIn[8], line 1\u001b[1;36m\u001b[0m\n\u001b[1;33m    path_folder = 'C:\\Users\\Matheus\\Desktop\\Libras\\sign_language\\data\\data\\images\\'\u001b[0m\n\u001b[1;37m                  ^\u001b[0m\n\u001b[1;31mSyntaxError\u001b[0m\u001b[1;31m:\u001b[0m unterminated string literal (detected at line 1)\n"
     ]
    }
   ],
   "source": [
    "path_folder = 'C:/Users/Matheus/desktop/Libras/sign_language/dados-libras'\n",
    "batch_size = 16\n",
    "\n",
    "image_gen = ImageDataGenerator(\n",
    "    rotation_range=30,\n",
    "    width_shift_range=0.1,\n",
    "    height_shift_range=0.1,\n",
    "    rescale=1/255,  \n",
    "    shear_range=0.2,\n",
    "    zoom_range=0.2,\n",
    "    horizontal_flip=True,\n",
    "    fill_mode='nearest'\n",
    ")\n",
    "\n",
    "\n",
    "data_generator = image_gen.flow_from_directory(\n",
    "    path_folder,\n",
    "    target_size=(64, 64),  \n",
    "    batch_size=batch_size,\n",
    "    shuffle=False,  \n",
    "    class_mode='categorical'\n",
    ")\n",
    "\n",
    "\n",
    "\n",
    "train_image_gen = image_gen.flow_from_directory(path_folder+'/train', \n",
    "                              batch_size = batch_size, \n",
    "                              class_mode='categorical')\n",
    "test_image_gen = image_gen.flow_from_directory(path_folder+'/test', \n",
    "                              batch_size = batch_size, \n",
    "                              class_mode='categorical')\n",
    "\n"
   ]
  },
  {
   "cell_type": "code",
   "execution_count": 10,
   "metadata": {},
   "outputs": [
    {
     "name": "stdout",
     "output_type": "stream",
     "text": [
      "Model: \"model_1\"\n",
      "_________________________________________________________________\n",
      " Layer (type)                Output Shape              Param #   \n",
      "=================================================================\n",
      " input_2 (InputLayer)        [(None, 64, 64, 3)]       0         \n",
      "                                                                 \n",
      " conv2d_1 (Conv2D)           (None, 62, 62, 16)        448       \n",
      "                                                                 \n",
      " max_pooling2d_1 (MaxPoolin  (None, 31, 31, 16)        0         \n",
      " g2D)                                                            \n",
      "                                                                 \n",
      " dense_1 (Dense)             (None, 31, 31, 1)         17        \n",
      "                                                                 \n",
      "=================================================================\n",
      "Total params: 465 (1.82 KB)\n",
      "Trainable params: 465 (1.82 KB)\n",
      "Non-trainable params: 0 (0.00 Byte)\n",
      "_________________________________________________________________\n",
      "None\n"
     ]
    }
   ],
   "source": [
    "inputs = tf.keras.Input(shape = (64, 64, 3))\n",
    "\n",
    "x = tf.keras.layers.Conv2D(filters = 16, kernel_size = (3, 3), activation = 'relu')(inputs)\n",
    "x = tf.keras.layers.MaxPool2D(pool_size = (2, 2))(x)\n",
    "\n",
    "outputs = tf.keras.layers.Dense(1, activation='sigmoid')(x)\n",
    "model = tf.keras.Model(inputs = inputs, outputs = outputs)\n",
    "\n",
    "model.compile(\n",
    "    optimizer = 'adam',\n",
    "    loss = 'sparse_categorical_crossentropy',\n",
    "    metrics = ['accuracy']\n",
    ")\n",
    "\n",
    "print(model.summary())"
   ]
  },
  {
   "cell_type": "code",
   "execution_count": 15,
   "metadata": {},
   "outputs": [
    {
     "ename": "ValueError",
     "evalue": "Asked to retrieve element 0, but the Sequence has length 0",
     "output_type": "error",
     "traceback": [
      "\u001b[1;31m---------------------------------------------------------------------------\u001b[0m",
      "\u001b[1;31mValueError\u001b[0m                                Traceback (most recent call last)",
      "\u001b[1;32mc:\\Users\\Matheus\\Desktop\\Libras\\sign_language\\src\\libras.ipynb Cell 5\u001b[0m line \u001b[0;36m1\n\u001b[1;32m----> <a href='vscode-notebook-cell:/c%3A/Users/Matheus/Desktop/Libras/sign_language/src/libras.ipynb#W6sZmlsZQ%3D%3D?line=0'>1</a>\u001b[0m history \u001b[39m=\u001b[39m model\u001b[39m.\u001b[39;49mfit(\n\u001b[0;32m      <a href='vscode-notebook-cell:/c%3A/Users/Matheus/Desktop/Libras/sign_language/src/libras.ipynb#W6sZmlsZQ%3D%3D?line=1'>2</a>\u001b[0m     train_image_gen,\n\u001b[0;32m      <a href='vscode-notebook-cell:/c%3A/Users/Matheus/Desktop/Libras/sign_language/src/libras.ipynb#W6sZmlsZQ%3D%3D?line=2'>3</a>\u001b[0m     validation_data \u001b[39m=\u001b[39;49m test_image_gen,\n\u001b[0;32m      <a href='vscode-notebook-cell:/c%3A/Users/Matheus/Desktop/Libras/sign_language/src/libras.ipynb#W6sZmlsZQ%3D%3D?line=3'>4</a>\u001b[0m     epochs \u001b[39m=\u001b[39;49m \u001b[39m5\u001b[39;49m\n\u001b[0;32m      <a href='vscode-notebook-cell:/c%3A/Users/Matheus/Desktop/Libras/sign_language/src/libras.ipynb#W6sZmlsZQ%3D%3D?line=4'>5</a>\u001b[0m )\n",
      "File \u001b[1;32mc:\\Users\\Matheus\\Desktop\\Libras\\sign_language\\libras\\Lib\\site-packages\\keras\\src\\utils\\traceback_utils.py:70\u001b[0m, in \u001b[0;36mfilter_traceback.<locals>.error_handler\u001b[1;34m(*args, **kwargs)\u001b[0m\n\u001b[0;32m     67\u001b[0m     filtered_tb \u001b[39m=\u001b[39m _process_traceback_frames(e\u001b[39m.\u001b[39m__traceback__)\n\u001b[0;32m     68\u001b[0m     \u001b[39m# To get the full stack trace, call:\u001b[39;00m\n\u001b[0;32m     69\u001b[0m     \u001b[39m# `tf.debugging.disable_traceback_filtering()`\u001b[39;00m\n\u001b[1;32m---> 70\u001b[0m     \u001b[39mraise\u001b[39;00m e\u001b[39m.\u001b[39mwith_traceback(filtered_tb) \u001b[39mfrom\u001b[39;00m \u001b[39mNone\u001b[39;00m\n\u001b[0;32m     71\u001b[0m \u001b[39mfinally\u001b[39;00m:\n\u001b[0;32m     72\u001b[0m     \u001b[39mdel\u001b[39;00m filtered_tb\n",
      "File \u001b[1;32mc:\\Users\\Matheus\\Desktop\\Libras\\sign_language\\libras\\Lib\\site-packages\\keras\\src\\preprocessing\\image.py:103\u001b[0m, in \u001b[0;36mIterator.__getitem__\u001b[1;34m(self, idx)\u001b[0m\n\u001b[0;32m    101\u001b[0m \u001b[39mdef\u001b[39;00m \u001b[39m__getitem__\u001b[39m(\u001b[39mself\u001b[39m, idx):\n\u001b[0;32m    102\u001b[0m     \u001b[39mif\u001b[39;00m idx \u001b[39m>\u001b[39m\u001b[39m=\u001b[39m \u001b[39mlen\u001b[39m(\u001b[39mself\u001b[39m):\n\u001b[1;32m--> 103\u001b[0m         \u001b[39mraise\u001b[39;00m \u001b[39mValueError\u001b[39;00m(\n\u001b[0;32m    104\u001b[0m             \u001b[39m\"\u001b[39m\u001b[39mAsked to retrieve element \u001b[39m\u001b[39m{idx}\u001b[39;00m\u001b[39m, \u001b[39m\u001b[39m\"\u001b[39m\n\u001b[0;32m    105\u001b[0m             \u001b[39m\"\u001b[39m\u001b[39mbut the Sequence \u001b[39m\u001b[39m\"\u001b[39m\n\u001b[0;32m    106\u001b[0m             \u001b[39m\"\u001b[39m\u001b[39mhas length \u001b[39m\u001b[39m{length}\u001b[39;00m\u001b[39m\"\u001b[39m\u001b[39m.\u001b[39mformat(idx\u001b[39m=\u001b[39midx, length\u001b[39m=\u001b[39m\u001b[39mlen\u001b[39m(\u001b[39mself\u001b[39m))\n\u001b[0;32m    107\u001b[0m         )\n\u001b[0;32m    108\u001b[0m     \u001b[39mif\u001b[39;00m \u001b[39mself\u001b[39m\u001b[39m.\u001b[39mseed \u001b[39mis\u001b[39;00m \u001b[39mnot\u001b[39;00m \u001b[39mNone\u001b[39;00m:\n\u001b[0;32m    109\u001b[0m         np\u001b[39m.\u001b[39mrandom\u001b[39m.\u001b[39mseed(\u001b[39mself\u001b[39m\u001b[39m.\u001b[39mseed \u001b[39m+\u001b[39m \u001b[39mself\u001b[39m\u001b[39m.\u001b[39mtotal_batches_seen)\n",
      "\u001b[1;31mValueError\u001b[0m: Asked to retrieve element 0, but the Sequence has length 0"
     ]
    }
   ],
   "source": [
    "history = model.fit(\n",
    "    train_image_gen,\n",
    "    validation_data = test_image_gen,\n",
    "    epochs = 5\n",
    ")"
   ]
  },
  {
   "cell_type": "code",
   "execution_count": 9,
   "metadata": {},
   "outputs": [
    {
     "ename": "KeyboardInterrupt",
     "evalue": "",
     "output_type": "error",
     "traceback": [
      "\u001b[1;31m---------------------------------------------------------------------------\u001b[0m",
      "\u001b[1;31mKeyboardInterrupt\u001b[0m                         Traceback (most recent call last)",
      "\u001b[1;32mc:\\Users\\Matheus\\Desktop\\Libras\\sign_language\\src\\libras.ipynb Cell 6\u001b[0m line \u001b[0;36m8\n\u001b[0;32m      <a href='vscode-notebook-cell:/c%3A/Users/Matheus/Desktop/Libras/sign_language/src/libras.ipynb#W3sZmlsZQ%3D%3D?line=4'>5</a>\u001b[0m classes_printed \u001b[39m=\u001b[39m {class_name: \u001b[39mFalse\u001b[39;00m \u001b[39mfor\u001b[39;00m class_name \u001b[39min\u001b[39;00m class_names}\n\u001b[0;32m      <a href='vscode-notebook-cell:/c%3A/Users/Matheus/Desktop/Libras/sign_language/src/libras.ipynb#W3sZmlsZQ%3D%3D?line=6'>7</a>\u001b[0m \u001b[39m# Loop para exibir 1 imagem de cada classe\u001b[39;00m\n\u001b[1;32m----> <a href='vscode-notebook-cell:/c%3A/Users/Matheus/Desktop/Libras/sign_language/src/libras.ipynb#W3sZmlsZQ%3D%3D?line=7'>8</a>\u001b[0m \u001b[39mfor\u001b[39;00m images, labels \u001b[39min\u001b[39;00m data_generator:\n\u001b[0;32m      <a href='vscode-notebook-cell:/c%3A/Users/Matheus/Desktop/Libras/sign_language/src/libras.ipynb#W3sZmlsZQ%3D%3D?line=8'>9</a>\u001b[0m     \u001b[39mfor\u001b[39;00m i \u001b[39min\u001b[39;00m \u001b[39mrange\u001b[39m(\u001b[39mlen\u001b[39m(images)):\n\u001b[0;32m     <a href='vscode-notebook-cell:/c%3A/Users/Matheus/Desktop/Libras/sign_language/src/libras.ipynb#W3sZmlsZQ%3D%3D?line=9'>10</a>\u001b[0m         image \u001b[39m=\u001b[39m images[i]\n",
      "File \u001b[1;32mc:\\Users\\Matheus\\Desktop\\Libras\\sign_language\\libras\\Lib\\site-packages\\keras\\src\\preprocessing\\image.py:156\u001b[0m, in \u001b[0;36mIterator.__next__\u001b[1;34m(self, *args, **kwargs)\u001b[0m\n\u001b[0;32m    155\u001b[0m \u001b[39mdef\u001b[39;00m \u001b[39m__next__\u001b[39m(\u001b[39mself\u001b[39m, \u001b[39m*\u001b[39margs, \u001b[39m*\u001b[39m\u001b[39m*\u001b[39mkwargs):\n\u001b[1;32m--> 156\u001b[0m     \u001b[39mreturn\u001b[39;00m \u001b[39mself\u001b[39;49m\u001b[39m.\u001b[39;49mnext(\u001b[39m*\u001b[39;49margs, \u001b[39m*\u001b[39;49m\u001b[39m*\u001b[39;49mkwargs)\n",
      "File \u001b[1;32mc:\\Users\\Matheus\\Desktop\\Libras\\sign_language\\libras\\Lib\\site-packages\\keras\\src\\preprocessing\\image.py:168\u001b[0m, in \u001b[0;36mIterator.next\u001b[1;34m(self)\u001b[0m\n\u001b[0;32m    165\u001b[0m     index_array \u001b[39m=\u001b[39m \u001b[39mnext\u001b[39m(\u001b[39mself\u001b[39m\u001b[39m.\u001b[39mindex_generator)\n\u001b[0;32m    166\u001b[0m \u001b[39m# The transformation of images is not under thread lock\u001b[39;00m\n\u001b[0;32m    167\u001b[0m \u001b[39m# so it can be done in parallel\u001b[39;00m\n\u001b[1;32m--> 168\u001b[0m \u001b[39mreturn\u001b[39;00m \u001b[39mself\u001b[39;49m\u001b[39m.\u001b[39;49m_get_batches_of_transformed_samples(index_array)\n",
      "File \u001b[1;32mc:\\Users\\Matheus\\Desktop\\Libras\\sign_language\\libras\\Lib\\site-packages\\keras\\src\\preprocessing\\image.py:368\u001b[0m, in \u001b[0;36mBatchFromFilesMixin._get_batches_of_transformed_samples\u001b[1;34m(self, index_array)\u001b[0m\n\u001b[0;32m    363\u001b[0m batch_x \u001b[39m=\u001b[39m np\u001b[39m.\u001b[39mzeros(\n\u001b[0;32m    364\u001b[0m     (\u001b[39mlen\u001b[39m(index_array),) \u001b[39m+\u001b[39m \u001b[39mself\u001b[39m\u001b[39m.\u001b[39mimage_shape, dtype\u001b[39m=\u001b[39m\u001b[39mself\u001b[39m\u001b[39m.\u001b[39mdtype\n\u001b[0;32m    365\u001b[0m )\n\u001b[0;32m    366\u001b[0m \u001b[39m# build batch of image data\u001b[39;00m\n\u001b[0;32m    367\u001b[0m \u001b[39m# self.filepaths is dynamic, is better to call it once outside the loop\u001b[39;00m\n\u001b[1;32m--> 368\u001b[0m filepaths \u001b[39m=\u001b[39m \u001b[39mself\u001b[39;49m\u001b[39m.\u001b[39;49mfilepaths\n\u001b[0;32m    369\u001b[0m \u001b[39mfor\u001b[39;00m i, j \u001b[39min\u001b[39;00m \u001b[39menumerate\u001b[39m(index_array):\n\u001b[0;32m    370\u001b[0m     img \u001b[39m=\u001b[39m image_utils\u001b[39m.\u001b[39mload_img(\n\u001b[0;32m    371\u001b[0m         filepaths[j],\n\u001b[0;32m    372\u001b[0m         color_mode\u001b[39m=\u001b[39m\u001b[39mself\u001b[39m\u001b[39m.\u001b[39mcolor_mode,\n\u001b[1;32m   (...)\u001b[0m\n\u001b[0;32m    375\u001b[0m         keep_aspect_ratio\u001b[39m=\u001b[39m\u001b[39mself\u001b[39m\u001b[39m.\u001b[39mkeep_aspect_ratio,\n\u001b[0;32m    376\u001b[0m     )\n",
      "File \u001b[1;32mc:\\Users\\Matheus\\Desktop\\Libras\\sign_language\\libras\\Lib\\site-packages\\keras\\src\\preprocessing\\image.py:611\u001b[0m, in \u001b[0;36mDirectoryIterator.filepaths\u001b[1;34m(self)\u001b[0m\n\u001b[0;32m    606\u001b[0m     \u001b[39mself\u001b[39m\u001b[39m.\u001b[39m_filepaths \u001b[39m=\u001b[39m [\n\u001b[0;32m    607\u001b[0m         os\u001b[39m.\u001b[39mpath\u001b[39m.\u001b[39mjoin(\u001b[39mself\u001b[39m\u001b[39m.\u001b[39mdirectory, fname) \u001b[39mfor\u001b[39;00m fname \u001b[39min\u001b[39;00m \u001b[39mself\u001b[39m\u001b[39m.\u001b[39mfilenames\n\u001b[0;32m    608\u001b[0m     ]\n\u001b[0;32m    609\u001b[0m     \u001b[39msuper\u001b[39m()\u001b[39m.\u001b[39m\u001b[39m__init__\u001b[39m(\u001b[39mself\u001b[39m\u001b[39m.\u001b[39msamples, batch_size, shuffle, seed)\n\u001b[1;32m--> 611\u001b[0m \u001b[39m@property\u001b[39m\n\u001b[0;32m    612\u001b[0m \u001b[39mdef\u001b[39;00m \u001b[39mfilepaths\u001b[39m(\u001b[39mself\u001b[39m):\n\u001b[0;32m    613\u001b[0m     \u001b[39mreturn\u001b[39;00m \u001b[39mself\u001b[39m\u001b[39m.\u001b[39m_filepaths\n\u001b[0;32m    615\u001b[0m \u001b[39m@property\u001b[39m\n\u001b[0;32m    616\u001b[0m \u001b[39mdef\u001b[39;00m \u001b[39mlabels\u001b[39m(\u001b[39mself\u001b[39m):\n",
      "\u001b[1;31mKeyboardInterrupt\u001b[0m: "
     ]
    }
   ],
   "source": [
    "\n",
    "# Nomes das classes (subdiretórios no diretório principal)\n",
    "class_names = sorted(os.listdir(path_folder))\n",
    "\n",
    "# Dicionário para rastrear quais classes já foram impressas\n",
    "classes_printed = {class_name: False for class_name in class_names}\n",
    "\n",
    "# Loop para exibir 1 imagem de cada classe\n",
    "for images, labels in data_generator:\n",
    "    for i in range(len(images)):\n",
    "        image = images[i]\n",
    "        label = labels[i]\n",
    "        class_name = class_names[label.argmax()]  # Obtém o nome da classe\n",
    "\n",
    "        # Verifica se já imprimimos uma imagem para esta classe\n",
    "        if not classes_printed[class_name]:\n",
    "            plt.imshow(image)\n",
    "            plt.title(f'Classe: {class_name}')\n",
    "            plt.show()\n",
    "\n",
    "            # Marca esta classe como já impressa\n",
    "            classes_printed[class_name] = True\n",
    "\n",
    "    # Verifica se já imprimimos uma imagem para todas as classes\n",
    "    if all(printed for printed in classes_printed.values()):\n",
    "        break\n"
   ]
  },
  {
   "cell_type": "code",
   "execution_count": 3,
   "metadata": {},
   "outputs": [],
   "source": [
    "classes = 36\n",
    "letras = {'0' : 'A', '1' : 'B', '2' : 'C' , '3': 'D', '4': 'E', '5':'F', '6':'G', '7': 'H', '8':'I', '9':'J', '10':'K', '11': 'L', '12':'M', '13':'N', '14':'O', '15':'P', '16':'Q', '17':'R', '18':'S', '19':'T','20':'U','21':'V','22':'W','23':'X','24':'Y','25':'Z','26':'0','27':'1','28':'2','29':'3','30':'4','31':'5','32':'6','33':'7','34':'8','35':'9'}\n",
    "\n"
   ]
  }
 ],
 "metadata": {
  "kernelspec": {
   "display_name": "libras",
   "language": "python",
   "name": "python3"
  },
  "language_info": {
   "codemirror_mode": {
    "name": "ipython",
    "version": 3
   },
   "file_extension": ".py",
   "mimetype": "text/x-python",
   "name": "python",
   "nbconvert_exporter": "python",
   "pygments_lexer": "ipython3",
   "version": "3.7.0"
  },
  "orig_nbformat": 4
 },
 "nbformat": 4,
 "nbformat_minor": 2
}
